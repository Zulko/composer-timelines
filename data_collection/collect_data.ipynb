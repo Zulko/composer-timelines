{
 "cells": [
  {
   "cell_type": "markdown",
   "id": "dc8ba556-dcb5-4285-8d57-c41aef60447d",
   "metadata": {},
   "source": [
    "# Data collection\n",
    "\n",
    "This notebook:\n",
    "- Asks ChatGPT for a list of ~150 candidates\n",
    "- Runs Chatgpt on Wikipedia to summarize the main life events for each composer\n",
    "- Downloads work data from IMSLP\n",
    "- Summarizes world events for all years 1500-2000\n",
    "\n",
    "It works in batches and by steps, storing the result of each step under `result_folder/{composer_name}.json`."
   ]
  },
  {
   "cell_type": "code",
   "execution_count": 2,
   "id": "246fffa4-d6b2-4740-b160-cc0a1b07d713",
   "metadata": {},
   "outputs": [],
   "source": [
    "from pathlib import Path\n",
    "import utils\n",
    "\n",
    "from collections import Counter\n",
    "from fastprogress import progress_bar\n",
    "from gpt_function_decorator import gpt_function"
   ]
  },
  {
   "cell_type": "markdown",
   "id": "6e4c707f-9737-4f4a-ba58-81edc4d251e7",
   "metadata": {},
   "source": [
    "## Generate the composer list"
   ]
  },
  {
   "cell_type": "markdown",
   "id": "627bb5a0-e731-4a1d-b9a2-02977105ba78",
   "metadata": {},
   "source": [
    "### Ask for a list of composers"
   ]
  },
  {
   "cell_type": "code",
   "execution_count": 4,
   "id": "83935d0f-0308-4222-8dd7-03810e7b0bb8",
   "metadata": {},
   "outputs": [],
   "source": [
    "@gpt_function(gpt_model='gpt-4o')\n",
    "def list_famous_composers(n_composers) -> list:\n",
    "    \"\"\"Return a list of the most famous classical composers\n",
    "    who lived between 1600 before 1976\"\"\"\n",
    "\n",
    "composer_list_file = Path(\"data\") / \"raw_chatgpt_composers_list.json\"\n",
    "if not composer_list_file.exists():\n",
    "    composers = [\n",
    "        composer\n",
    "        for i in progress_bar(range(10))\n",
    "        for composer in list_famous_composers(n_composers=100)\n",
    "    ]\n",
    "    utils.save_to_json(composers, composer_list_file)"
   ]
  },
  {
   "cell_type": "markdown",
   "id": "f3a652d8-3600-49aa-a120-022afd7c16f1",
   "metadata": {},
   "source": [
    "### Keep only composers mentioned more than once"
   ]
  },
  {
   "cell_type": "code",
   "execution_count": 5,
   "id": "a76576d7-b20b-4e1a-90c3-a17f43db35d3",
   "metadata": {},
   "outputs": [],
   "source": [
    "composer_list = utils.load_from_json(\"data/raw_chatgpt_composers_list.json\")\n",
    "composer_counts = Counter(composer_list)\n",
    "most_mentioned_composer_list = [c for c in composer_counts if composer_counts[c] > 1]\n",
    "target_dir = Path(\"./data/composer_names\")\n",
    "target_dir.mkdir(exist_ok=True)\n",
    "for composer in most_mentioned_composer_list:\n",
    "    utils.save_to_json({\"name\": composer}, target_dir / f\"{composer}.json\")"
   ]
  },
  {
   "cell_type": "markdown",
   "id": "b044f203-af0c-4ba7-b4be-63eb52e0aae6",
   "metadata": {},
   "source": [
    "### Get basic metadata on each composer"
   ]
  },
  {
   "cell_type": "code",
   "execution_count": 20,
   "id": "30e9a3e5-30c0-4ffa-9d26-6223f2f4508a",
   "metadata": {},
   "outputs": [
    {
     "data": {
      "text/html": [
       "\n",
       "<style>\n",
       "    /* Turns off some styling */\n",
       "    progress {\n",
       "        /* gets rid of default border in Firefox and Opera. */\n",
       "        border: none;\n",
       "        /* Needs to be in here for Safari polyfill so background images work as expected. */\n",
       "        background-size: auto;\n",
       "    }\n",
       "    progress:not([value]), progress:not([value])::-webkit-progress-bar {\n",
       "        background: repeating-linear-gradient(45deg, #7e7e7e, #7e7e7e 10px, #5c5c5c 10px, #5c5c5c 20px);\n",
       "    }\n",
       "    .progress-bar-interrupted, .progress-bar-interrupted::-webkit-progress-bar {\n",
       "        background: #F44336;\n",
       "    }\n",
       "</style>\n"
      ],
      "text/plain": [
       "<IPython.core.display.HTML object>"
      ]
     },
     "metadata": {},
     "output_type": "display_data"
    },
    {
     "data": {
      "text/html": [
       "\n",
       "    <div>\n",
       "      <progress value='8' class='' max='8' style='width:300px; height:20px; vertical-align: middle;'></progress>\n",
       "      100.00% [8/8 00:13&lt;00:00]\n",
       "    </div>\n",
       "    "
      ],
      "text/plain": [
       "<IPython.core.display.HTML object>"
      ]
     },
     "metadata": {},
     "output_type": "display_data"
    }
   ],
   "source": [
    "await utils.process_folder(\n",
    "    function=utils.get_basic_metadata_from_wikipedia,\n",
    "    source_folder=\"./data2/composer_names\",\n",
    "    target_folder=\"./data2/composer_basic_metadata/\",\n",
    "    replace_existing=True,\n",
    "    num_processes=1\n",
    ")"
   ]
  },
  {
   "cell_type": "markdown",
   "id": "1784213d-4a87-4553-b5ae-d3d0ad797564",
   "metadata": {},
   "source": [
    "## Collect life events from Wikipedia"
   ]
  },
  {
   "cell_type": "markdown",
   "id": "877cbbce-0b16-474e-b05b-1ddaee8db11e",
   "metadata": {},
   "source": [
    "### Get sections from wikipedia page"
   ]
  },
  {
   "cell_type": "code",
   "execution_count": 22,
   "id": "f84b18d1-cf62-4f8d-a00a-45bbcd38be56",
   "metadata": {},
   "outputs": [
    {
     "data": {
      "text/html": [
       "\n",
       "<style>\n",
       "    /* Turns off some styling */\n",
       "    progress {\n",
       "        /* gets rid of default border in Firefox and Opera. */\n",
       "        border: none;\n",
       "        /* Needs to be in here for Safari polyfill so background images work as expected. */\n",
       "        background-size: auto;\n",
       "    }\n",
       "    progress:not([value]), progress:not([value])::-webkit-progress-bar {\n",
       "        background: repeating-linear-gradient(45deg, #7e7e7e, #7e7e7e 10px, #5c5c5c 10px, #5c5c5c 20px);\n",
       "    }\n",
       "    .progress-bar-interrupted, .progress-bar-interrupted::-webkit-progress-bar {\n",
       "        background: #F44336;\n",
       "    }\n",
       "</style>\n"
      ],
      "text/plain": [
       "<IPython.core.display.HTML object>"
      ]
     },
     "metadata": {},
     "output_type": "display_data"
    },
    {
     "data": {
      "text/html": [
       "\n",
       "    <div>\n",
       "      <progress value='8' class='' max='8' style='width:300px; height:20px; vertical-align: middle;'></progress>\n",
       "      100.00% [8/8 00:05&lt;00:00]\n",
       "    </div>\n",
       "    "
      ],
      "text/plain": [
       "<IPython.core.display.HTML object>"
      ]
     },
     "metadata": {},
     "output_type": "display_data"
    }
   ],
   "source": [
    "await utils.process_folder(\n",
    "    function=utils.collect_wikipedia_page_and_separate_sections,\n",
    "    source_folder=\"./data/composer_basic_metadata\",\n",
    "    target_folder=\"./data/composer_wikipedia_content/\",\n",
    "    replace_existing=True,\n",
    "    num_processes=1\n",
    ")"
   ]
  },
  {
   "cell_type": "markdown",
   "id": "0277ae46-f643-41d9-804c-5e805840b989",
   "metadata": {},
   "source": [
    "### Summarize the composer wikipedia pages"
   ]
  },
  {
   "cell_type": "code",
   "execution_count": 3,
   "id": "d24590e9-29d7-4d21-bdda-71cc3db1cb7f",
   "metadata": {},
   "outputs": [
    {
     "data": {
      "text/html": [
       "\n",
       "<style>\n",
       "    /* Turns off some styling */\n",
       "    progress {\n",
       "        /* gets rid of default border in Firefox and Opera. */\n",
       "        border: none;\n",
       "        /* Needs to be in here for Safari polyfill so background images work as expected. */\n",
       "        background-size: auto;\n",
       "    }\n",
       "    progress:not([value]), progress:not([value])::-webkit-progress-bar {\n",
       "        background: repeating-linear-gradient(45deg, #7e7e7e, #7e7e7e 10px, #5c5c5c 10px, #5c5c5c 20px);\n",
       "    }\n",
       "    .progress-bar-interrupted, .progress-bar-interrupted::-webkit-progress-bar {\n",
       "        background: #F44336;\n",
       "    }\n",
       "</style>\n"
      ],
      "text/plain": [
       "<IPython.core.display.HTML object>"
      ]
     },
     "metadata": {},
     "output_type": "display_data"
    },
    {
     "data": {
      "text/html": [
       "\n",
       "    <div>\n",
       "      <progress value='8' class='' max='8' style='width:300px; height:20px; vertical-align: middle;'></progress>\n",
       "      100.00% [8/8 02:17&lt;00:00]\n",
       "    </div>\n",
       "    "
      ],
      "text/plain": [
       "<IPython.core.display.HTML object>"
      ]
     },
     "metadata": {},
     "output_type": "display_data"
    }
   ],
   "source": [
    "await utils.process_folder(\n",
    "    utils.list_life_events_in_sections,\n",
    "    source_folder=\"./data/composer_wikipedia_content/\",\n",
    "    target_folder=\"data/composer_event_summaries/\",\n",
    "    num_processes=1\n",
    ")"
   ]
  },
  {
   "cell_type": "markdown",
   "id": "8cf594d6-5a0b-4106-8a8a-2841c81deeed",
   "metadata": {},
   "source": [
    "### Add fun to the events"
   ]
  },
  {
   "cell_type": "code",
   "execution_count": 5,
   "id": "fe7c7db6-47a7-48cd-87a3-78c55d16e7f5",
   "metadata": {},
   "outputs": [
    {
     "data": {
      "text/html": [
       "\n",
       "<style>\n",
       "    /* Turns off some styling */\n",
       "    progress {\n",
       "        /* gets rid of default border in Firefox and Opera. */\n",
       "        border: none;\n",
       "        /* Needs to be in here for Safari polyfill so background images work as expected. */\n",
       "        background-size: auto;\n",
       "    }\n",
       "    progress:not([value]), progress:not([value])::-webkit-progress-bar {\n",
       "        background: repeating-linear-gradient(45deg, #7e7e7e, #7e7e7e 10px, #5c5c5c 10px, #5c5c5c 20px);\n",
       "    }\n",
       "    .progress-bar-interrupted, .progress-bar-interrupted::-webkit-progress-bar {\n",
       "        background: #F44336;\n",
       "    }\n",
       "</style>\n"
      ],
      "text/plain": [
       "<IPython.core.display.HTML object>"
      ]
     },
     "metadata": {},
     "output_type": "display_data"
    },
    {
     "data": {
      "text/html": [
       "\n",
       "    <div>\n",
       "      <progress value='8' class='' max='8' style='width:300px; height:20px; vertical-align: middle;'></progress>\n",
       "      100.00% [8/8 05:23&lt;00:00]\n",
       "    </div>\n",
       "    "
      ],
      "text/plain": [
       "<IPython.core.display.HTML object>"
      ]
     },
     "metadata": {},
     "output_type": "display_data"
    }
   ],
   "source": [
    "await utils.process_folder(\n",
    "    utils.add_fun_to_events,\n",
    "    source_folder=\"./data/composer_event_summaries/\",\n",
    "    target_folder=\"./data/composer_works/\",\n",
    "    num_processes=3\n",
    ")"
   ]
  },
  {
   "cell_type": "markdown",
   "id": "b7cbbe19-d1b6-462f-8c27-587fd887ea5c",
   "metadata": {},
   "source": [
    "## Get compositions"
   ]
  },
  {
   "cell_type": "code",
   "execution_count": 8,
   "id": "af808cba-96f8-406d-bd5c-6916b7425059",
   "metadata": {},
   "outputs": [
    {
     "data": {
      "text/html": [
       "\n",
       "<style>\n",
       "    /* Turns off some styling */\n",
       "    progress {\n",
       "        /* gets rid of default border in Firefox and Opera. */\n",
       "        border: none;\n",
       "        /* Needs to be in here for Safari polyfill so background images work as expected. */\n",
       "        background-size: auto;\n",
       "    }\n",
       "    progress:not([value]), progress:not([value])::-webkit-progress-bar {\n",
       "        background: repeating-linear-gradient(45deg, #7e7e7e, #7e7e7e 10px, #5c5c5c 10px, #5c5c5c 20px);\n",
       "    }\n",
       "    .progress-bar-interrupted, .progress-bar-interrupted::-webkit-progress-bar {\n",
       "        background: #F44336;\n",
       "    }\n",
       "</style>\n"
      ],
      "text/plain": [
       "<IPython.core.display.HTML object>"
      ]
     },
     "metadata": {},
     "output_type": "display_data"
    },
    {
     "data": {
      "text/html": [
       "\n",
       "    <div>\n",
       "      <progress value='7' class='' max='7' style='width:300px; height:20px; vertical-align: middle;'></progress>\n",
       "      100.00% [7/7 05:26&lt;00:00]\n",
       "    </div>\n",
       "    "
      ],
      "text/plain": [
       "<IPython.core.display.HTML object>"
      ]
     },
     "metadata": {},
     "output_type": "display_data"
    },
    {
     "data": {
      "text/html": [
       "\n",
       "<style>\n",
       "    /* Turns off some styling */\n",
       "    progress {\n",
       "        /* gets rid of default border in Firefox and Opera. */\n",
       "        border: none;\n",
       "        /* Needs to be in here for Safari polyfill so background images work as expected. */\n",
       "        background-size: auto;\n",
       "    }\n",
       "    progress:not([value]), progress:not([value])::-webkit-progress-bar {\n",
       "        background: repeating-linear-gradient(45deg, #7e7e7e, #7e7e7e 10px, #5c5c5c 10px, #5c5c5c 20px);\n",
       "    }\n",
       "    .progress-bar-interrupted, .progress-bar-interrupted::-webkit-progress-bar {\n",
       "        background: #F44336;\n",
       "    }\n",
       "</style>\n"
      ],
      "text/plain": [
       "<IPython.core.display.HTML object>"
      ]
     },
     "metadata": {},
     "output_type": "display_data"
    },
    {
     "data": {
      "text/html": [
       "\n",
       "    <div>\n",
       "      <progress value='1018' class='' max='1018' style='width:300px; height:20px; vertical-align: middle;'></progress>\n",
       "      100.00% [1018/1018 01:06&lt;00:00]\n",
       "    </div>\n",
       "    "
      ],
      "text/plain": [
       "<IPython.core.display.HTML object>"
      ]
     },
     "metadata": {},
     "output_type": "display_data"
    },
    {
     "data": {
      "text/html": [
       "\n",
       "<style>\n",
       "    /* Turns off some styling */\n",
       "    progress {\n",
       "        /* gets rid of default border in Firefox and Opera. */\n",
       "        border: none;\n",
       "        /* Needs to be in here for Safari polyfill so background images work as expected. */\n",
       "        background-size: auto;\n",
       "    }\n",
       "    progress:not([value]), progress:not([value])::-webkit-progress-bar {\n",
       "        background: repeating-linear-gradient(45deg, #7e7e7e, #7e7e7e 10px, #5c5c5c 10px, #5c5c5c 20px);\n",
       "    }\n",
       "    .progress-bar-interrupted, .progress-bar-interrupted::-webkit-progress-bar {\n",
       "        background: #F44336;\n",
       "    }\n",
       "</style>\n"
      ],
      "text/plain": [
       "<IPython.core.display.HTML object>"
      ]
     },
     "metadata": {},
     "output_type": "display_data"
    },
    {
     "data": {
      "text/html": [
       "\n",
       "    <div>\n",
       "      <progress value='638' class='' max='638' style='width:300px; height:20px; vertical-align: middle;'></progress>\n",
       "      100.00% [638/638 00:43&lt;00:00]\n",
       "    </div>\n",
       "    "
      ],
      "text/plain": [
       "<IPython.core.display.HTML object>"
      ]
     },
     "metadata": {},
     "output_type": "display_data"
    },
    {
     "data": {
      "text/html": [
       "\n",
       "<style>\n",
       "    /* Turns off some styling */\n",
       "    progress {\n",
       "        /* gets rid of default border in Firefox and Opera. */\n",
       "        border: none;\n",
       "        /* Needs to be in here for Safari polyfill so background images work as expected. */\n",
       "        background-size: auto;\n",
       "    }\n",
       "    progress:not([value]), progress:not([value])::-webkit-progress-bar {\n",
       "        background: repeating-linear-gradient(45deg, #7e7e7e, #7e7e7e 10px, #5c5c5c 10px, #5c5c5c 20px);\n",
       "    }\n",
       "    .progress-bar-interrupted, .progress-bar-interrupted::-webkit-progress-bar {\n",
       "        background: #F44336;\n",
       "    }\n",
       "</style>\n"
      ],
      "text/plain": [
       "<IPython.core.display.HTML object>"
      ]
     },
     "metadata": {},
     "output_type": "display_data"
    },
    {
     "data": {
      "text/html": [
       "\n",
       "    <div>\n",
       "      <progress value='357' class='' max='357' style='width:300px; height:20px; vertical-align: middle;'></progress>\n",
       "      100.00% [357/357 00:28&lt;00:00]\n",
       "    </div>\n",
       "    "
      ],
      "text/plain": [
       "<IPython.core.display.HTML object>"
      ]
     },
     "metadata": {},
     "output_type": "display_data"
    },
    {
     "data": {
      "text/html": [
       "\n",
       "<style>\n",
       "    /* Turns off some styling */\n",
       "    progress {\n",
       "        /* gets rid of default border in Firefox and Opera. */\n",
       "        border: none;\n",
       "        /* Needs to be in here for Safari polyfill so background images work as expected. */\n",
       "        background-size: auto;\n",
       "    }\n",
       "    progress:not([value]), progress:not([value])::-webkit-progress-bar {\n",
       "        background: repeating-linear-gradient(45deg, #7e7e7e, #7e7e7e 10px, #5c5c5c 10px, #5c5c5c 20px);\n",
       "    }\n",
       "    .progress-bar-interrupted, .progress-bar-interrupted::-webkit-progress-bar {\n",
       "        background: #F44336;\n",
       "    }\n",
       "</style>\n"
      ],
      "text/plain": [
       "<IPython.core.display.HTML object>"
      ]
     },
     "metadata": {},
     "output_type": "display_data"
    },
    {
     "data": {
      "text/html": [
       "\n",
       "    <div>\n",
       "      <progress value='56' class='' max='56' style='width:300px; height:20px; vertical-align: middle;'></progress>\n",
       "      100.00% [56/56 00:05&lt;00:00]\n",
       "    </div>\n",
       "    "
      ],
      "text/plain": [
       "<IPython.core.display.HTML object>"
      ]
     },
     "metadata": {},
     "output_type": "display_data"
    },
    {
     "data": {
      "text/html": [
       "\n",
       "<style>\n",
       "    /* Turns off some styling */\n",
       "    progress {\n",
       "        /* gets rid of default border in Firefox and Opera. */\n",
       "        border: none;\n",
       "        /* Needs to be in here for Safari polyfill so background images work as expected. */\n",
       "        background-size: auto;\n",
       "    }\n",
       "    progress:not([value]), progress:not([value])::-webkit-progress-bar {\n",
       "        background: repeating-linear-gradient(45deg, #7e7e7e, #7e7e7e 10px, #5c5c5c 10px, #5c5c5c 20px);\n",
       "    }\n",
       "    .progress-bar-interrupted, .progress-bar-interrupted::-webkit-progress-bar {\n",
       "        background: #F44336;\n",
       "    }\n",
       "</style>\n"
      ],
      "text/plain": [
       "<IPython.core.display.HTML object>"
      ]
     },
     "metadata": {},
     "output_type": "display_data"
    },
    {
     "data": {
      "text/html": [
       "\n",
       "    <div>\n",
       "      <progress value='155' class='' max='155' style='width:300px; height:20px; vertical-align: middle;'></progress>\n",
       "      100.00% [155/155 00:12&lt;00:00]\n",
       "    </div>\n",
       "    "
      ],
      "text/plain": [
       "<IPython.core.display.HTML object>"
      ]
     },
     "metadata": {},
     "output_type": "display_data"
    },
    {
     "data": {
      "text/html": [
       "\n",
       "<style>\n",
       "    /* Turns off some styling */\n",
       "    progress {\n",
       "        /* gets rid of default border in Firefox and Opera. */\n",
       "        border: none;\n",
       "        /* Needs to be in here for Safari polyfill so background images work as expected. */\n",
       "        background-size: auto;\n",
       "    }\n",
       "    progress:not([value]), progress:not([value])::-webkit-progress-bar {\n",
       "        background: repeating-linear-gradient(45deg, #7e7e7e, #7e7e7e 10px, #5c5c5c 10px, #5c5c5c 20px);\n",
       "    }\n",
       "    .progress-bar-interrupted, .progress-bar-interrupted::-webkit-progress-bar {\n",
       "        background: #F44336;\n",
       "    }\n",
       "</style>\n"
      ],
      "text/plain": [
       "<IPython.core.display.HTML object>"
      ]
     },
     "metadata": {},
     "output_type": "display_data"
    },
    {
     "data": {
      "text/html": [
       "\n",
       "    <div>\n",
       "      <progress value='729' class='' max='729' style='width:300px; height:20px; vertical-align: middle;'></progress>\n",
       "      100.00% [729/729 00:47&lt;00:00]\n",
       "    </div>\n",
       "    "
      ],
      "text/plain": [
       "<IPython.core.display.HTML object>"
      ]
     },
     "metadata": {},
     "output_type": "display_data"
    },
    {
     "data": {
      "text/html": [
       "\n",
       "<style>\n",
       "    /* Turns off some styling */\n",
       "    progress {\n",
       "        /* gets rid of default border in Firefox and Opera. */\n",
       "        border: none;\n",
       "        /* Needs to be in here for Safari polyfill so background images work as expected. */\n",
       "        background-size: auto;\n",
       "    }\n",
       "    progress:not([value]), progress:not([value])::-webkit-progress-bar {\n",
       "        background: repeating-linear-gradient(45deg, #7e7e7e, #7e7e7e 10px, #5c5c5c 10px, #5c5c5c 20px);\n",
       "    }\n",
       "    .progress-bar-interrupted, .progress-bar-interrupted::-webkit-progress-bar {\n",
       "        background: #F44336;\n",
       "    }\n",
       "</style>\n"
      ],
      "text/plain": [
       "<IPython.core.display.HTML object>"
      ]
     },
     "metadata": {},
     "output_type": "display_data"
    },
    {
     "data": {
      "text/html": [
       "\n",
       "    <div>\n",
       "      <progress value='1223' class='' max='1223' style='width:300px; height:20px; vertical-align: middle;'></progress>\n",
       "      100.00% [1223/1223 01:53&lt;00:00]\n",
       "    </div>\n",
       "    "
      ],
      "text/plain": [
       "<IPython.core.display.HTML object>"
      ]
     },
     "metadata": {},
     "output_type": "display_data"
    }
   ],
   "source": [
    "await utils.process_folder(\n",
    "    utils.get_works_data_from_imslp,\n",
    "    source_folder=\"./data/composer_wikipedia_content/\",\n",
    "    target_folder=\"./data/composer_works/\",\n",
    "    num_processes=1\n",
    ")"
   ]
  },
  {
   "cell_type": "markdown",
   "id": "6761a5c5-fb5c-4eb4-9556-825507c026a2",
   "metadata": {},
   "source": [
    "## Compile composer data"
   ]
  },
  {
   "cell_type": "code",
   "execution_count": 11,
   "id": "43eaee37-c540-4316-9e50-a56f41e49027",
   "metadata": {},
   "outputs": [
    {
     "data": {
      "text/html": [
       "\n",
       "<style>\n",
       "    /* Turns off some styling */\n",
       "    progress {\n",
       "        /* gets rid of default border in Firefox and Opera. */\n",
       "        border: none;\n",
       "        /* Needs to be in here for Safari polyfill so background images work as expected. */\n",
       "        background-size: auto;\n",
       "    }\n",
       "    progress:not([value]), progress:not([value])::-webkit-progress-bar {\n",
       "        background: repeating-linear-gradient(45deg, #7e7e7e, #7e7e7e 10px, #5c5c5c 10px, #5c5c5c 20px);\n",
       "    }\n",
       "    .progress-bar-interrupted, .progress-bar-interrupted::-webkit-progress-bar {\n",
       "        background: #F44336;\n",
       "    }\n",
       "</style>\n"
      ],
      "text/plain": [
       "<IPython.core.display.HTML object>"
      ]
     },
     "metadata": {},
     "output_type": "display_data"
    },
    {
     "data": {
      "text/html": [
       "\n",
       "    <div>\n",
       "      <progress value='8' class='' max='8' style='width:300px; height:20px; vertical-align: middle;'></progress>\n",
       "      100.00% [8/8 00:00&lt;00:00]\n",
       "    </div>\n",
       "    "
      ],
      "text/plain": [
       "<IPython.core.display.HTML object>"
      ]
     },
     "metadata": {},
     "output_type": "display_data"
    }
   ],
   "source": [
    "def compile_data(composer_metadata):\n",
    "    data = {**composer_metadata}\n",
    "    json_filename = data[\"full_name\"] + \".json\"\n",
    "    birth, death = data[\"birth_year\"], data[\"death_year\"]\n",
    "\n",
    "    wikipedia_data = utils.load_from_json(f\"data/composer_wikipedia_content/{json_filename}\")\n",
    "    data[\"wikipedia_url\"] = wikipedia_data[\"wikipedia_url\"]\n",
    "\n",
    "    events = utils.load_from_json(f\"data/composer_event_summaries_with_fun/{json_filename}\")\n",
    "    data[\"events\"] = [e for e in events if e[\"year\"] and (birth <= e[\"year\"] <= death)]\n",
    "    data[\"events\"] = sorted(data[\"events\"], key=lambda e: (e[\"year\"], e[\"title\"])) \n",
    "\n",
    "    works = utils.load_from_json(f\"data/composer_works/{json_filename}\")\n",
    "    data[\"works\"] = [w for w in works if w[\"year\"] and (birth <= w[\"year\"] <= death)]\n",
    "    data[\"works\"] = sorted(data[\"works\"], key=lambda w: (w[\"year\"], w[\"title\"]))\n",
    "    \n",
    "    return data\n",
    "    \n",
    "utils.process_folder(\n",
    "    compile_data,\n",
    "    source_folder=\"./data/composer_basic_metadata/\",\n",
    "    target_folder=\"./data/full_composer_data/\",\n",
    "    replace_existing=True,\n",
    "    num_processes=1\n",
    ")"
   ]
  },
  {
   "cell_type": "code",
   "execution_count": 13,
   "id": "b65dbdef-ef09-47db-816a-c5d931367a70",
   "metadata": {},
   "outputs": [],
   "source": [
    "all_composer_basic_metadata = [\n",
    "    utils.load_from_json(f)\n",
    "    for f in Path(\"./data/composer_basic_metadata/\").glob(\"*.json\")\n",
    "]\n",
    "all_composer_basic_metadata = sorted(all_composer_basic_metadata, key=lambda c: c[\"last_name\"])\n",
    "utils.save_to_json(all_composer_basic_metadata, \"data/composers.json\")"
   ]
  },
  {
   "cell_type": "markdown",
   "id": "a95e6786-677e-43b6-b9c1-27e9843fc281",
   "metadata": {},
   "source": [
    "## Summarize the events of all years\n"
   ]
  },
  {
   "cell_type": "code",
   "execution_count": 15,
   "id": "92df8c7f-4def-42f4-a54a-8b5df4d8e34a",
   "metadata": {},
   "outputs": [
    {
     "data": {
      "text/html": [
       "\n",
       "<style>\n",
       "    /* Turns off some styling */\n",
       "    progress {\n",
       "        /* gets rid of default border in Firefox and Opera. */\n",
       "        border: none;\n",
       "        /* Needs to be in here for Safari polyfill so background images work as expected. */\n",
       "        background-size: auto;\n",
       "    }\n",
       "    progress:not([value]), progress:not([value])::-webkit-progress-bar {\n",
       "        background: repeating-linear-gradient(45deg, #7e7e7e, #7e7e7e 10px, #5c5c5c 10px, #5c5c5c 20px);\n",
       "    }\n",
       "    .progress-bar-interrupted, .progress-bar-interrupted::-webkit-progress-bar {\n",
       "        background: #F44336;\n",
       "    }\n",
       "</style>\n"
      ],
      "text/plain": [
       "<IPython.core.display.HTML object>"
      ]
     },
     "metadata": {},
     "output_type": "display_data"
    },
    {
     "data": {
      "text/html": [
       "\n",
       "    <div>\n",
       "      <progress value='5' class='' max='5' style='width:300px; height:20px; vertical-align: middle;'></progress>\n",
       "      100.00% [5/5 00:31&lt;00:00]\n",
       "    </div>\n",
       "    "
      ],
      "text/plain": [
       "<IPython.core.display.HTML object>"
      ]
     },
     "metadata": {},
     "output_type": "display_data"
    }
   ],
   "source": [
    "years_dir = Path(\"data/years/\")\n",
    "years_dir.mkdir(exist_ok=True)\n",
    "for year in range(1500, 2000):\n",
    "    utils.save_to_json({\"year\": year}, years_dir / f\"{year}.json\")\n",
    "\n",
    "utils.process_folder(\n",
    "    utils.get_world_events,\n",
    "    source_folder=\"./data/years/\",\n",
    "    target_folder=\"./data/year_events/\",\n",
    "    replace_existing=True,\n",
    "    num_processes=1\n",
    ")"
   ]
  },
  {
   "cell_type": "markdown",
   "id": "18ca47b5-527f-4206-b480-0ce99cbbf049",
   "metadata": {},
   "source": [
    "### Compile the events in a single file"
   ]
  },
  {
   "cell_type": "code",
   "execution_count": null,
   "id": "19ca80f3-8390-4ae7-af8f-2fa815e71613",
   "metadata": {},
   "outputs": [],
   "source": [
    "year_world_events = {\n",
    "    int(f.stem): load_from_json(f)\n",
    "    for f in Path(\"data/year_events/\").glob(\"*.json\")\n",
    "}\n",
    "save_to_json({k: v for (k, v) in sorted(year_world_events.items())}, \"data/world_events.json\")"
   ]
  }
 ],
 "metadata": {
  "kernelspec": {
   "display_name": "Python 3 (ipykernel)",
   "language": "python",
   "name": "python3"
  },
  "language_info": {
   "codemirror_mode": {
    "name": "ipython",
    "version": 3
   },
   "file_extension": ".py",
   "mimetype": "text/x-python",
   "name": "python",
   "nbconvert_exporter": "python",
   "pygments_lexer": "ipython3",
   "version": "3.10.12"
  }
 },
 "nbformat": 4,
 "nbformat_minor": 5
}
