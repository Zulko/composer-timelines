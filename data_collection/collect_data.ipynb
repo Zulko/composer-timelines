{
 "cells": [
  {
   "cell_type": "markdown",
   "id": "dc8ba556-dcb5-4285-8d57-c41aef60447d",
   "metadata": {},
   "source": [
    "# Data collection"
   ]
  },
  {
   "cell_type": "markdown",
   "id": "20375bc0-8467-42b6-85bb-e37b2c81ac04",
   "metadata": {},
   "source": [
    "## Imports and utils"
   ]
  },
  {
   "cell_type": "code",
   "execution_count": 11,
   "id": "fe3ec8f4-f18b-4248-8310-3636f8d72a99",
   "metadata": {},
   "outputs": [],
   "source": [
    "#!python3 -m pip install -U requests_cache bs4 fastprogress gpt_function"
   ]
  },
  {
   "cell_type": "code",
   "execution_count": 2,
   "id": "246fffa4-d6b2-4740-b160-cc0a1b07d713",
   "metadata": {},
   "outputs": [],
   "source": [
    "from pathlib import Path\n",
    "import multiprocessing\n",
    "import json\n",
    "import time\n",
    "import re\n",
    "\n",
    "from gpt_function_decorator import gpt_function\n",
    "import requests_cache\n",
    "from fastprogress import progress_bar\n",
    "from bs4 import BeautifulSoup\n",
    "\n",
    "def process_files(\n",
    "    function,\n",
    "    source_folder,\n",
    "    target_folder=None,\n",
    "    replace_existing=False,\n",
    "    num_processes=1\n",
    "):\n",
    "    source_folder = Path(source_folder)\n",
    "    source_files = list(source_folder.glob(\"*\"))\n",
    "    \n",
    "    if target_folder is not None:\n",
    "        target_folder = Path(target_folder)\n",
    "        target_folder.mkdir(parents=True, exist_ok=True)\n",
    "    \n",
    "    if not replace_existing:\n",
    "        already_processed = {f.stem for f in target_folder.glob(\"*\")}\n",
    "        source_files = [f for f in source_files if f.stem not in already_processed]\n",
    "    \n",
    "    if (len(source_files) > 1) and (num_processes > 1):\n",
    "        with multiprocessing.Pool(processes=num_processes) as pool:\n",
    "             list(progress_bar(pool.imap(function, source_files), total=len(source_files)))\n",
    "    else:\n",
    "        for file in progress_bar(source_files):\n",
    "            function(file)\n",
    "\n",
    "requests_cache_session = requests_cache.CachedSession(\"web-cache\")\n",
    "            \n",
    "def download_page(url, sleep_after=0):\n",
    "    try:\n",
    "        response = requests_cache_session.get(url)\n",
    "        response.raise_for_status()\n",
    "        html = response.text\n",
    "        time.sleep(sleep_after)\n",
    "        return html\n",
    "    except requests.exceptions.RequestException as e:\n",
    "        print(f\"Failed to download {url}: {e}\")\n",
    "        \n",
    "def save_to_json(data, filepath):\n",
    "    json.dump(data, open(filepath, \"w\"), indent=2)\n",
    "\n",
    "def load_from_json(filepath):\n",
    "    return json.load(open(filepath, \"r\"))"
   ]
  },
  {
   "cell_type": "markdown",
   "id": "6e4c707f-9737-4f4a-ba58-81edc4d251e7",
   "metadata": {},
   "source": [
    "## Generate the composer list"
   ]
  },
  {
   "cell_type": "markdown",
   "id": "627bb5a0-e731-4a1d-b9a2-02977105ba78",
   "metadata": {},
   "source": [
    "### Ask for a list of composers"
   ]
  },
  {
   "cell_type": "code",
   "execution_count": 89,
   "id": "83935d0f-0308-4222-8dd7-03810e7b0bb8",
   "metadata": {},
   "outputs": [],
   "source": [
    "@gpt_function(gpt_model='gpt-4o', retries=2)\n",
    "def list_famous_composers(n_composers) -> list:\n",
    "    \"\"\"Return a list of the most famous classical composers\n",
    "    who lived between 1600 before 1976\"\"\"\n",
    "\n",
    "target_file = Path(\"./data/composer_names.json\")\n",
    "if not target_file.is_file():\n",
    "    composers = [\n",
    "        composer\n",
    "        for i in progress_bar(range(10))\n",
    "        for composer in list_famous_composers(n_composers=100)\n",
    "    ]\n",
    "    unique_composers = set(composers)\n",
    "    composers_list = [c for c in composer_counts if composer_counts[c] > 1]\n",
    "    save_to_json(sorted(composers_list), target_file)"
   ]
  },
  {
   "cell_type": "markdown",
   "id": "b741ebfb-c01d-4aa8-a34d-516a51c826c0",
   "metadata": {},
   "source": [
    "### Make one file per composer"
   ]
  },
  {
   "cell_type": "code",
   "execution_count": null,
   "id": "55232f89-a87c-4497-b29b-9662e232d671",
   "metadata": {},
   "outputs": [],
   "source": [
    "composer_list = load_from_json(\"./data/composer_list.json\")\n",
    "path = Path(\"data/composer_names\")\n",
    "path.mkdir(exist_ok=True)\n",
    "for composer in composer_list:\n",
    "    save_to_json({\"name\": composer}, path / f\"{composer}.json\")"
   ]
  },
  {
   "cell_type": "markdown",
   "id": "b044f203-af0c-4ba7-b4be-63eb52e0aae6",
   "metadata": {},
   "source": [
    "### Compute basic metadata on each composer"
   ]
  },
  {
   "cell_type": "code",
   "execution_count": 34,
   "id": "7ef26a9e-dea9-4eb8-81bd-449f2937cb0e",
   "metadata": {},
   "outputs": [
    {
     "data": {
      "text/html": [
       "\n",
       "<style>\n",
       "    /* Turns off some styling */\n",
       "    progress {\n",
       "        /* gets rid of default border in Firefox and Opera. */\n",
       "        border: none;\n",
       "        /* Needs to be in here for Safari polyfill so background images work as expected. */\n",
       "        background-size: auto;\n",
       "    }\n",
       "    progress:not([value]), progress:not([value])::-webkit-progress-bar {\n",
       "        background: repeating-linear-gradient(45deg, #7e7e7e, #7e7e7e 10px, #5c5c5c 10px, #5c5c5c 20px);\n",
       "    }\n",
       "    .progress-bar-interrupted, .progress-bar-interrupted::-webkit-progress-bar {\n",
       "        background: #F44336;\n",
       "    }\n",
       "</style>\n"
      ],
      "text/plain": [
       "<IPython.core.display.HTML object>"
      ]
     },
     "metadata": {},
     "output_type": "display_data"
    },
    {
     "data": {
      "text/html": [
       "\n",
       "    <div>\n",
       "      <progress value='151' class='' max='151' style='width:300px; height:20px; vertical-align: middle;'></progress>\n",
       "      100.00% [151/151 00:59&lt;00:00]\n",
       "    </div>\n",
       "    "
      ],
      "text/plain": [
       "<IPython.core.display.HTML object>"
      ]
     },
     "metadata": {},
     "output_type": "display_data"
    }
   ],
   "source": [
    "@gpt_function(gpt_model='gpt-4o', retries=2)\n",
    "def composer_metadata(composer) -> dict:\n",
    "    \"\"\"Return the following metadata for the given composer:\n",
    "    {\n",
    "        first_names: str,\n",
    "        last_name: str,\n",
    "        birth_year: int,\n",
    "        death_year: int\n",
    "    }\n",
    "    \"\"\"\n",
    "\n",
    "target_folder = Path(\"./data/composer_basic_metadata/\")\n",
    "\n",
    "def compute_basic_metadata(source_file):\n",
    "    file_data = load_from_json(source_file)\n",
    "    output = composer_metadata(composer=file_data[\"name\"])\n",
    "    output[\"full_name\"] = file_data[\"name\"]\n",
    "    save_to_json(output, target_folder / source_file.name)\n",
    "\n",
    "\n",
    "process_files(\n",
    "    compute_basic_metadata,\n",
    "    source_folder=\"./data/composer_names\",\n",
    "    target_folder=target_folder,\n",
    "    replace_existing=True,\n",
    "    num_processes=3\n",
    ")"
   ]
  },
  {
   "cell_type": "markdown",
   "id": "1784213d-4a87-4553-b5ae-d3d0ad797564",
   "metadata": {},
   "source": [
    "## Collect life events from Wikipedia"
   ]
  },
  {
   "cell_type": "markdown",
   "id": "877cbbce-0b16-474e-b05b-1ddaee8db11e",
   "metadata": {},
   "source": [
    "### Download the composer wiki pages"
   ]
  },
  {
   "cell_type": "code",
   "execution_count": 12,
   "id": "578994b2-303e-41d3-8be3-53a5815eabdb",
   "metadata": {},
   "outputs": [],
   "source": [
    "target_folder = Path(\"data/composer_wikipedia_pages/\")\n",
    "\n",
    "def get_wikipedia_url_from_search(term):\n",
    "    search_url = \"https://en.wikipedia.org/w/api.php\"\n",
    "    params = {\n",
    "        \"action\": \"query\",\n",
    "        \"list\": \"search\",\n",
    "        \"srsearch\": term,\n",
    "        \"format\": \"json\"\n",
    "    }\n",
    "    \n",
    "    response = requests_cache_session.get(search_url, params=params)\n",
    "    data = response.json()\n",
    "    \n",
    "    if data['query']['search']:\n",
    "        title = data['query']['search'][0]['title']\n",
    "        page_url = f\"https://en.wikipedia.org/wiki/{title.replace(' ', '_')}\"\n",
    "        return page_url\n",
    "    else:\n",
    "        print (f\"No page found for {term}\")\n",
    "        return None\n",
    "\n",
    "def extract_sections_from_wikipedia_page(html_content, section_blacklist=None, section_whitelist=None):\n",
    "    \"\"\"wikipedia pages have the following slightly complex schema:\n",
    "\n",
    "    <div><h2>Section 1 title</h2></div>\n",
    "    <p>...</p>...\n",
    "    <div><h2>Section 2 title</h2></div>\n",
    "    <p>...</p>...\n",
    "    \"\"\"\n",
    "    # Parse the HTML content with BeautifulSoup\n",
    "    soup = BeautifulSoup(html_content, 'html.parser')\n",
    "\n",
    "    # Find all h2 tags, which represent section titles\n",
    "    sections = soup.find_all('h2')\n",
    "\n",
    "    # Initialize a list to store the results\n",
    "    section_data = []\n",
    "\n",
    "    # Iterate over each section\n",
    "    for section in sections:\n",
    "        title = section.get_text(strip=True)  # Extract the title text\n",
    "        if section_blacklist is not None:\n",
    "            if title in section_blacklist:\n",
    "                continue\n",
    "        if section_whitelist is not None:\n",
    "            if title not in section_whitelist:\n",
    "                continue\n",
    "        content = []  # Initialize content list for this section\n",
    "        for sibling in section.parent.find_next_siblings():\n",
    "            if len(sibling.select('h2')):  # Stop if the next h2 section starts\n",
    "                break\n",
    "            if sibling.get_text(strip=True):  # Add text content if not empty\n",
    "                content.append(sibling.get_text())\n",
    "\n",
    "        # Join the content list into a single string\n",
    "        content_text = \" \".join(content)\n",
    "\n",
    "        # Append the result as a dictionary\n",
    "        section_data.append({\"title\": title, \"content\": content_text})\n",
    "    return section_data\n",
    "\n",
    "\n",
    "target_folder = Path(\"./data/composer_wikipedia_content\")\n",
    "\n",
    "section_title_blacklist = [\n",
    "    \"External links\",\n",
    "    \"Further reading\",\n",
    "    \"Sources\",\n",
    "    \"See also\",\n",
    "    \"References\",\n",
    "    \"Contents\",\n",
    "    \"Notes, references and sources\",\n",
    "    \"Notes\",\n",
    "    \"Notes and references\",\n",
    "    \"Recordings\",\n",
    "    \"Compositions\"\n",
    "]\n",
    "def collect_wikipedia_page_and_separate_sections(source_file):\n",
    "    composer = load_from_json(source_file)[\"full_name\"]\n",
    "    wikipedia_url = get_wikipedia_url_from_search(composer)\n",
    "    html_content = download_page(wikipedia_url)\n",
    "    sections = extract_sections_from_wikipedia_page(\n",
    "        html_content, section_blacklist=section_title_blacklist\n",
    "    )\n",
    "    target_file = target_folder / source_file.name\n",
    "    data = {\"wikipedia_url\": wikipedia_url, \"sections\": sections}\n",
    "    save_to_json(data, target_file)\n",
    "\n",
    "process_files(\n",
    "    collect_wikipedia_page_and_separate_sections,\n",
    "    source_folder=\"./data/composer_basic_metadata/\",\n",
    "    target_folder=target_folder,\n",
    "    replace_existing=False,\n",
    "    num_processes=3\n",
    ")"
   ]
  },
  {
   "cell_type": "markdown",
   "id": "0277ae46-f643-41d9-804c-5e805840b989",
   "metadata": {},
   "source": [
    "### Summarize the composer wikipedia pages"
   ]
  },
  {
   "cell_type": "code",
   "execution_count": 32,
   "id": "d24590e9-29d7-4d21-bdda-71cc3db1cb7f",
   "metadata": {},
   "outputs": [],
   "source": [
    "@gpt_function(retries=2)\n",
    "def list_life_events(composer_biography: str, exclude_events: list) -> list[dict]:\n",
    "    \"\"\"Return a list the composer's life events from the given text.\n",
    "    Exclude any event described in the exclude_events list.\n",
    "    Add the best emoji to describe the event. \n",
    "    \n",
    "    The output should have this schema:\n",
    "    [{title:str, summary: str, year: int, location: str, emoji: str}...]\n",
    "    \n",
    "    The summary should be a few sentences, and as informative as possible\n",
    "    but only with information from the text.\n",
    "    The summary should not state the year.\n",
    "    \n",
    "    Return an empty list if there are no events.\n",
    "    \"\"\"\n",
    "\n",
    "target_folder = Path(\"data/composer_event_summaries/\")\n",
    "    \n",
    "def summarize_sections(source_file):\n",
    "    events = []\n",
    "    sections = load_from_json(source_file)\n",
    "    for section in sections:\n",
    "        title = section[\"title\"]\n",
    "        text = source_file.stem + title + \".\\n\" + section[\"content\"]\n",
    "        past_events = [f\"{e['year']} {e['title']}\" for e in events]\n",
    "        section_events = list_life_events(\n",
    "            composer_biography=text, exclude_events=past_events\n",
    "        )\n",
    "        events += [{\"section\": title, **e} for e in section_events]\n",
    "    save_to_json(events, target_folder / source_file.name)\n",
    "\n",
    "process_files(\n",
    "    summarize_sections,\n",
    "    source_folder=\"./data/composer_wikipedia_sections/\",\n",
    "    target_folder=target_folder,\n",
    "    num_processes=3\n",
    ")"
   ]
  },
  {
   "cell_type": "code",
   "execution_count": 29,
   "id": "fe7c7db6-47a7-48cd-87a3-78c55d16e7f5",
   "metadata": {},
   "outputs": [
    {
     "data": {
      "text/html": [
       "\n",
       "<style>\n",
       "    /* Turns off some styling */\n",
       "    progress {\n",
       "        /* gets rid of default border in Firefox and Opera. */\n",
       "        border: none;\n",
       "        /* Needs to be in here for Safari polyfill so background images work as expected. */\n",
       "        background-size: auto;\n",
       "    }\n",
       "    progress:not([value]), progress:not([value])::-webkit-progress-bar {\n",
       "        background: repeating-linear-gradient(45deg, #7e7e7e, #7e7e7e 10px, #5c5c5c 10px, #5c5c5c 20px);\n",
       "    }\n",
       "    .progress-bar-interrupted, .progress-bar-interrupted::-webkit-progress-bar {\n",
       "        background: #F44336;\n",
       "    }\n",
       "</style>\n"
      ],
      "text/plain": [
       "<IPython.core.display.HTML object>"
      ]
     },
     "metadata": {},
     "output_type": "display_data"
    },
    {
     "data": {
      "text/html": [
       "\n",
       "    <div>\n",
       "      <progress value='149' class='' max='149' style='width:300px; height:20px; vertical-align: middle;'></progress>\n",
       "      100.00% [149/149 2:36:28&lt;00:00]\n",
       "    </div>\n",
       "    "
      ],
      "text/plain": [
       "<IPython.core.display.HTML object>"
      ]
     },
     "metadata": {},
     "output_type": "display_data"
    }
   ],
   "source": [
    "@gpt_function(retries=2)\n",
    "def most_relevant_emoji(event: str, context: dict) -> dict:\n",
    "    \"\"\"Return the most relevent emoji for the given event\n",
    "    Output schema: {emoji: str}\n",
    "    \"\"\"\n",
    "\n",
    "@gpt_function(retries=2, think_through=True)\n",
    "def add_fun_to_text(event_summary: str) -> str:\n",
    "    \"\"\"For the given event_summary, follow these steps:\n",
    "    \n",
    "    Step 1: Rewrite the event_summary with humor. Be funny!\n",
    "    Step 2: Copy the result of Step 1 without any joke about tragic events.\n",
    "    Step 3: Copy the result of Step 2 without the weakest jokes if the text is over 60 words\n",
    "    Step 4: Copy the result of Step 3 with any information from the original summary that got lost.\n",
    "    \"\"\"\n",
    "\n",
    "target_folder = Path(\"data/composer_event_summaries_with_fun/\")\n",
    "    \n",
    "def add_event_fun(source_file):\n",
    "    \n",
    "    events = load_from_json(source_file)\n",
    "    composer = source_file.stem\n",
    "    events_with_fun = []\n",
    "    for event in events:\n",
    "        context = {**event}\n",
    "        summary = context.pop(\"summary\")\n",
    "        emoji = most_relevant_emoji(event_summary=event[\"summary\"], context=context)\n",
    "        fun_version = add_fun_to_text(event_summary=summary)\n",
    "        events_with_fun.append({**event, **emoji, \"fun_version\": fun_version})\n",
    "    save_to_json(events_with_fun, target_folder / source_file.name)\n",
    "\n",
    "process_files(\n",
    "    add_event_fun,\n",
    "    source_folder=\"./data/composer_event_summaries/\",\n",
    "    target_folder=target_folder,\n",
    "    num_processes=3\n",
    ")"
   ]
  },
  {
   "cell_type": "markdown",
   "id": "b7cbbe19-d1b6-462f-8c27-587fd887ea5c",
   "metadata": {},
   "source": [
    "## Get compositions"
   ]
  },
  {
   "cell_type": "markdown",
   "id": "49660f8c-987f-46f3-a615-bdddee768789",
   "metadata": {},
   "source": [
    "### Download IMSLP pages"
   ]
  },
  {
   "cell_type": "code",
   "execution_count": 3,
   "id": "320b3b5f-76df-4860-abd4-be950227e920",
   "metadata": {},
   "outputs": [
    {
     "data": {
      "text/html": [
       "\n",
       "<style>\n",
       "    /* Turns off some styling */\n",
       "    progress {\n",
       "        /* gets rid of default border in Firefox and Opera. */\n",
       "        border: none;\n",
       "        /* Needs to be in here for Safari polyfill so background images work as expected. */\n",
       "        background-size: auto;\n",
       "    }\n",
       "    progress:not([value]), progress:not([value])::-webkit-progress-bar {\n",
       "        background: repeating-linear-gradient(45deg, #7e7e7e, #7e7e7e 10px, #5c5c5c 10px, #5c5c5c 20px);\n",
       "    }\n",
       "    .progress-bar-interrupted, .progress-bar-interrupted::-webkit-progress-bar {\n",
       "        background: #F44336;\n",
       "    }\n",
       "</style>\n"
      ],
      "text/plain": [
       "<IPython.core.display.HTML object>"
      ]
     },
     "metadata": {},
     "output_type": "display_data"
    },
    {
     "data": {
      "text/html": [
       "\n",
       "    <div>\n",
       "      <progress value='29' class='' max='29' style='width:300px; height:20px; vertical-align: middle;'></progress>\n",
       "      100.00% [29/29 16:06&lt;00:00]\n",
       "    </div>\n",
       "    "
      ],
      "text/plain": [
       "<IPython.core.display.HTML object>"
      ]
     },
     "metadata": {},
     "output_type": "display_data"
    }
   ],
   "source": [
    "from urllib.parse import unquote\n",
    "\n",
    "IMSLP_URL = \"https://imslp.org\"\n",
    "\n",
    "def detect_imslp_url(wikipedia_html):\n",
    "    soup = BeautifulSoup(wikipedia_html)\n",
    "    for link in soup.select(\"a\"):\n",
    "        if \"href\" in link.attrs: \n",
    "            href = link.attrs[\"href\"]\n",
    "            if href.startswith(IMSLP_URL + \"/wiki/Category\"):\n",
    "                return href\n",
    "\n",
    "def get_work_data_from_imslp_html(imslp_html, composer):\n",
    "    composer_underscore = composer.replace(\" \", \"_\")\n",
    "    matches = re.findall(r'.extend\\(catpagejs,\\{\"p1\":(\\{[^}]+\\})', imslp_html)\n",
    "    match = json.loads(matches[0])\n",
    "    \n",
    "    works = [\n",
    "        work.split(\"|\")[0]\n",
    "        for letter_list in match.values()\n",
    "        for work in letter_list\n",
    "    ]\n",
    "    works_data = [\n",
    "        {\n",
    "            \"title\": work.replace(f\"({composer})\", \"\").strip(),\n",
    "            \"imslp_url\": f\"{IMSLP_URL}/wiki/{work.replace(' ', '_')}\",\n",
    "        }\n",
    "        for work in works\n",
    "    ]\n",
    "    return [work for work in works_data if composer_underscore in work[\"imslp_url\"]]\n",
    "\n",
    "def get_publication_year(work_html):\n",
    "    def detect_year(txt):\n",
    "        # Regular expression to find all numbers in the text\n",
    "        numbers = re.findall(r'\\b\\d{4}\\b', txt)\n",
    "        for num in numbers:\n",
    "            year = int(num)\n",
    "            if 1000 <= year <= 3000:\n",
    "                return year\n",
    "        return None\n",
    "    try:\n",
    "        soup = BeautifulSoup(work_html)\n",
    "    except:\n",
    "        return None\n",
    "    indicators = [\"First Publication\", \"Composition Year\"]\n",
    "    trs = [\n",
    "        tr for tr in soup.select(\"tr\")\n",
    "        if any([indicator in tr.get_text() for indicator in indicators])\n",
    "    ]\n",
    "    if trs == []:\n",
    "        return None\n",
    "    year = trs[0].select(\"td\")[0].get_text()\n",
    "    return detect_year(year)\n",
    "\n",
    "\n",
    "target_folder = Path(\"data/composer_works/\")\n",
    "\n",
    "total = [0]\n",
    "def get_composition_list(wikipedia_content_file):\n",
    "    wikipedia_url = load_from_json(wikipedia_content_file)[\"wikipedia_url\"]\n",
    "    wikipedia_html = download_page(wikipedia_url)\n",
    "\n",
    "    imslp_url = detect_imslp_url(wikipedia_html)\n",
    "    if imslp_url is None:\n",
    "        works_data = []\n",
    "    else:\n",
    "        imslp_html = download_page(imslp_url)\n",
    "        composer = re.findall(\"Category:(.*)</h1>\", imslp_html)[0].strip()\n",
    "        works_data = get_work_data_from_imslp_html(imslp_html, composer)\n",
    "        for work in progress_bar(works_data):\n",
    "            work_html = download_page(work[\"imslp_url\"], sleep_after=0.1)\n",
    "            work[\"year\"] = get_publication_year(work_html)\n",
    "    \n",
    "    save_to_json(works_data, target_folder / wikipedia_content_file.name)\n",
    "\n",
    "process_files(\n",
    "    get_composition_list,\n",
    "    source_folder=\"./data/composer_wikipedia_content/\",\n",
    "    target_folder=target_folder,\n",
    "    num_processes=3\n",
    ")\n",
    "\n",
    "\n",
    "    "
   ]
  },
  {
   "cell_type": "markdown",
   "id": "6761a5c5-fb5c-4eb4-9556-825507c026a2",
   "metadata": {},
   "source": [
    "## Compile composer data"
   ]
  },
  {
   "cell_type": "code",
   "execution_count": 36,
   "id": "43eaee37-c540-4316-9e50-a56f41e49027",
   "metadata": {},
   "outputs": [
    {
     "data": {
      "text/html": [
       "\n",
       "<style>\n",
       "    /* Turns off some styling */\n",
       "    progress {\n",
       "        /* gets rid of default border in Firefox and Opera. */\n",
       "        border: none;\n",
       "        /* Needs to be in here for Safari polyfill so background images work as expected. */\n",
       "        background-size: auto;\n",
       "    }\n",
       "    progress:not([value]), progress:not([value])::-webkit-progress-bar {\n",
       "        background: repeating-linear-gradient(45deg, #7e7e7e, #7e7e7e 10px, #5c5c5c 10px, #5c5c5c 20px);\n",
       "    }\n",
       "    .progress-bar-interrupted, .progress-bar-interrupted::-webkit-progress-bar {\n",
       "        background: #F44336;\n",
       "    }\n",
       "</style>\n"
      ],
      "text/plain": [
       "<IPython.core.display.HTML object>"
      ]
     },
     "metadata": {},
     "output_type": "display_data"
    },
    {
     "data": {
      "text/html": [
       "\n",
       "    <div>\n",
       "      <progress value='151' class='' max='151' style='width:300px; height:20px; vertical-align: middle;'></progress>\n",
       "      100.00% [151/151 00:00&lt;00:00]\n",
       "    </div>\n",
       "    "
      ],
      "text/plain": [
       "<IPython.core.display.HTML object>"
      ]
     },
     "metadata": {},
     "output_type": "display_data"
    }
   ],
   "source": [
    "target_folder = Path(\"data/composer_full_data\")\n",
    "\n",
    "def compile_data(source_file):\n",
    "    data = load_from_json(source_file)\n",
    "    birth, death = data[\"birth_year\"], data[\"death_year\"]\n",
    "\n",
    "    wikipedia_data = load_from_json(f\"data/composer_wikipedia_content/{source_file.name}\")\n",
    "    data[\"wikipedia_url\"] = wikipedia_data[\"wikipedia_url\"]\n",
    "\n",
    "    events = load_from_json(f\"data/composer_event_summaries_with_fun/{source_file.name}\")\n",
    "    data[\"events\"] = [e for e in events if e[\"year\"] and (birth <= e[\"year\"] <= death)]\n",
    "    data[\"events\"] = sorted(data[\"events\"], key=lambda e: (e[\"year\"], e[\"title\"])) \n",
    "\n",
    "    works = load_from_json(f\"data/composer_works/{source_file.name}\")\n",
    "    data[\"works\"] = [w for w in works if w[\"year\"] and (birth <= w[\"year\"] <= death)]\n",
    "    data[\"works\"] = sorted(data[\"works\"], key=lambda w: (w[\"year\"], w[\"title\"])) \n",
    "\n",
    "    save_to_json(data, target_folder / source_file.name)\n",
    "    \n",
    "process_files(\n",
    "    compile_data,\n",
    "    source_folder=\"./data/composer_basic_metadata/\",\n",
    "    target_folder=target_folder,\n",
    "    replace_existing=True,\n",
    "    num_processes=1\n",
    ")"
   ]
  },
  {
   "cell_type": "code",
   "execution_count": 35,
   "id": "b65dbdef-ef09-47db-816a-c5d931367a70",
   "metadata": {},
   "outputs": [],
   "source": [
    "all_composer_basic_metadata = [\n",
    "    load_from_json(f)\n",
    "    for f in Path(\"./data/composer_basic_metadata/\").glob(\"*.json\")\n",
    "]\n",
    "all_composer_basic_metadata = sorted(all_composer_basic_metadata, key=lambda c: c[\"last_name\"])\n",
    "save_to_json(all_composer_basic_metadata, \"data/composers.json\")"
   ]
  },
  {
   "cell_type": "markdown",
   "id": "a95e6786-677e-43b6-b9c1-27e9843fc281",
   "metadata": {},
   "source": [
    "## Summarize the events of all years\n"
   ]
  },
  {
   "cell_type": "code",
   "execution_count": 18,
   "id": "a6fdb707-3372-4378-b936-0058e3f6e3c6",
   "metadata": {},
   "outputs": [
    {
     "data": {
      "text/html": [
       "\n",
       "<style>\n",
       "    /* Turns off some styling */\n",
       "    progress {\n",
       "        /* gets rid of default border in Firefox and Opera. */\n",
       "        border: none;\n",
       "        /* Needs to be in here for Safari polyfill so background images work as expected. */\n",
       "        background-size: auto;\n",
       "    }\n",
       "    progress:not([value]), progress:not([value])::-webkit-progress-bar {\n",
       "        background: repeating-linear-gradient(45deg, #7e7e7e, #7e7e7e 10px, #5c5c5c 10px, #5c5c5c 20px);\n",
       "    }\n",
       "    .progress-bar-interrupted, .progress-bar-interrupted::-webkit-progress-bar {\n",
       "        background: #F44336;\n",
       "    }\n",
       "</style>\n"
      ],
      "text/plain": [
       "<IPython.core.display.HTML object>"
      ]
     },
     "metadata": {},
     "output_type": "display_data"
    },
    {
     "data": {
      "text/html": [
       "\n",
       "    <div>\n",
       "      <progress value='31' class='' max='31' style='width:300px; height:20px; vertical-align: middle;'></progress>\n",
       "      100.00% [31/31 01:06&lt;00:00]\n",
       "    </div>\n",
       "    "
      ],
      "text/plain": [
       "<IPython.core.display.HTML object>"
      ]
     },
     "metadata": {},
     "output_type": "display_data"
    }
   ],
   "source": [
    "@gpt_function\n",
    "def select_major_world_events(text) -> list:\n",
    "    \"\"\"Return a list of the top ~10 major events described in the text.\n",
    "    \n",
    "    Prefer major technical advances, or major events which\n",
    "    would have made the front page of European newspapers.\n",
    "    Prefer events which could have had an impact on citizens\n",
    "    and in particular music composers.\n",
    "    \n",
    "    Schema for each event:\n",
    "    {\"title\": str, \"summary\": str, \"year\": int, \"city\": str, \"country\": str}\n",
    "    \n",
    "    The year should always be a single integer, and only an integer.\n",
    "    Never use quotation marks inside the summary.\n",
    "    \"\"\"\n",
    "    \n",
    "years_dir = Path(\"data/years/\")\n",
    "years_dir.mkdir(exist_ok=True)\n",
    "for year in range(1500, 2000):\n",
    "    save_to_json({\"year\": year}, years_dir / f\"{year}.json\")\n",
    "\n",
    "target_folder = Path(\"data/year_events\")\n",
    "\n",
    "def get_world_events(year_file):\n",
    "    year = year_file.stem\n",
    "    wikipedia_url = f\"https://en.wikipedia.org/wiki/{year}\"\n",
    "    wikipedia_html = download_page(wikipedia_url)\n",
    "    sections = extract_sections_from_wikipedia_page(wikipedia_html, section_whitelist=[\"Events\"])\n",
    "    events_txt = sections[0][\"content\"]\n",
    "    events = select_major_world_events(text=events_txt)\n",
    "    save_to_json(events, target_folder / year_file.name)\n",
    "    \n",
    "    \n",
    "\n",
    "process_files(\n",
    "    function=get_world_events,\n",
    "    source_folder=years_dir,\n",
    "    target_folder=target_folder,\n",
    "    num_processes=5\n",
    ")\n"
   ]
  },
  {
   "cell_type": "markdown",
   "id": "09c9aec3-c533-4220-aa33-bc63c0f26264",
   "metadata": {},
   "source": [
    "### Compile world events to a single file"
   ]
  },
  {
   "cell_type": "code",
   "execution_count": 29,
   "id": "82590fbf-8c6e-4643-b33b-0cdc133e96bd",
   "metadata": {},
   "outputs": [],
   "source": [
    "year_world_events = {\n",
    "    int(f.stem): load_from_json(f)\n",
    "    for f in Path(\"data/year_events/\").glob(\"*.json\")\n",
    "}\n",
    "save_to_json({k: v for (k, v) in sorted(year_world_events.items())}, \"data/world_events.json\")"
   ]
  },
  {
   "cell_type": "code",
   "execution_count": null,
   "id": "42f8e317-518d-473f-9b52-865ee0600f56",
   "metadata": {},
   "outputs": [],
   "source": []
  }
 ],
 "metadata": {
  "kernelspec": {
   "display_name": "Python 3 (ipykernel)",
   "language": "python",
   "name": "python3"
  },
  "language_info": {
   "codemirror_mode": {
    "name": "ipython",
    "version": 3
   },
   "file_extension": ".py",
   "mimetype": "text/x-python",
   "name": "python",
   "nbconvert_exporter": "python",
   "pygments_lexer": "ipython3",
   "version": "3.10.12"
  }
 },
 "nbformat": 4,
 "nbformat_minor": 5
}
